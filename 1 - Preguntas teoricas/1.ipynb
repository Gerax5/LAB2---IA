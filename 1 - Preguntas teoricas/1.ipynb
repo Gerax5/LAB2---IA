{
 "cells": [
  {
   "cell_type": "markdown",
   "metadata": {},
   "source": [
    "## 1. ¿Por qué el modelo de Naive Bayes se le considera “naive”?\n",
    "Se le conoce así porque el modelo asume que las variables son independientes la una de la otra. Esto significa que en un conjunto de datos en formato de tabla, cada fila es un valor individual y que su resultado no afectara ni se verá afectado por otras filas.\n",
    "\n",
    "## 2. Explique la formulación matemática que se busca optimizar en Support Vector Machine, además responda ¿cómo funciona el truco del Kernel para este modelo? (Lo que se espera de esta pregunta es que puedan explicar en sus propias palabras la fórmula a la que llegamos que debemos optimizar de SVM en clase)\n",
    "Lo que se busca es una linea que divida los datos dentro del conjunto, de manera que la distancia de la separación entre los puntos más cercanos de cada clase sea la máxima. Para lograrlo se debe minimizar la norma del vector de peso y, en caso de que hayan restricciones, utilizar multiplicadores de Lagrange para eliminar las restricciones del problema y trabajarlo como un problema normal. El truco del Kernel en este caso sirve cuando tenemos datos que no son lineales en un espacio. Lo que hace el Kernel es transformar ese espacio a uno de mayor dimensión donde los datos si sean lineales.\n",
    "\n",
    "## 3. Investigue sobre Random Forest y responda\n",
    "### a. ¿Qué tipo de ensemble learning es este modelo?\n",
    "Es un enseble learning basasdo en el bagging (Bootstrap Aggregating). A diferencia de ese modelo, el Random Forest se entrenan árboles de decisión sobre varios subconjuntos aleatorios de los datos. Por último, se combinan las predicciones para generar una predicción final.\n",
    "\n",
    "### b. ¿Cuál es la idea general detrás de Random Forest?\n",
    "La idea general es contruir un conjunto de árboles de decisión para tener una mayor precisión y robustez en el código. Primero se selecciona de forma aleatoria un subconjunto de datos por cada árbol. Luego se hace lo mismo pero con las características, donde para cada nodo del árbol se colocan algunas caraterísticas de forma aleatoria. Por último se combinan las predicciones.\n",
    "\n",
    "### c. ¿Por qué se busca baja correlación entre los árboles de Random Forest?\n",
    "Para evitar el sesgo por sobreajuste, pues una alta correlación mantiene los datos sesgados. También para mejorar la varianza, ya que si los si los árboles son muy similares entonces tendrán errores igual de altos.  "
   ]
  }
 ],
 "metadata": {
  "language_info": {
   "name": "python"
  }
 },
 "nbformat": 4,
 "nbformat_minor": 2
}
