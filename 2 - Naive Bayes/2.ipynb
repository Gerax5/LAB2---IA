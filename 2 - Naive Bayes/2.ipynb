{
 "cells": [
  {
   "cell_type": "markdown",
   "metadata": {},
   "source": [
    "# Task 2 - Naive Bayes: Ham/Spam"
   ]
  },
  {
   "cell_type": "code",
   "execution_count": 24,
   "metadata": {},
   "outputs": [],
   "source": [
    "# Librerias base\n",
    "import re\n",
    "import numpy as np\n",
    "import pandas as pd\n",
    "from sklearn.model_selection import train_test_split\n",
    "from sklearn.metrics import accuracy_score, confusion_matrix, classification_report\n",
    "import seaborn as sns\n",
    "import matplotlib.pyplot as plt\n",
    "\n"
   ]
  },
  {
   "cell_type": "markdown",
   "metadata": {},
   "source": [
    "## 2.1 Lectura y limpieza del dataset"
   ]
  },
  {
   "cell_type": "code",
   "execution_count": 25,
   "metadata": {},
   "outputs": [],
   "source": [
    "#cargar los datos \n",
    "with open(\"entrenamiento.txt\", \"r\", encoding=\"utf-8\") as f:\n",
    "    lines = f.readlines()\n",
    "\n",
    "#separar la categoria y el mensaje  del dataset\n",
    "data =[]\n",
    "for line in lines: \n",
    "    category, message = line.strip().split(\"\\t\",1)\n",
    "    data.append([category, message])\n",
    "\n",
    "#crear el dataframe\n",
    "df = pd.DataFrame(data, columns=[\"category\", \"message\"])\n"
   ]
  },
  {
   "cell_type": "code",
   "execution_count": 26,
   "metadata": {},
   "outputs": [
    {
     "name": "stdout",
     "output_type": "stream",
     "text": [
      "\n",
      "exploracion de los datos: \n",
      "\n",
      "mostrar las primeras filas: \n",
      "  category                                            message\n",
      "0      ham  Go until jurong point, crazy.. Available only ...\n",
      "1      ham                      Ok lar... Joking wif u oni...\n",
      "2     spam  Free entry in 2 a wkly comp to win FA Cup fina...\n",
      "3      ham  U dun say so early hor... U c already then say...\n",
      "4      ham  Nah I don't think he goes to usf, he lives aro...\n",
      "\n",
      "resumen: \n",
      "       category                 message\n",
      "count      5565                    5565\n",
      "unique        2                    5153\n",
      "top         ham  Sorry, I'll call later\n",
      "freq       4818                      30\n",
      "\n",
      " tipo de datos: \n",
      "category    object\n",
      "message     object\n",
      "dtype: object\n"
     ]
    }
   ],
   "source": [
    "#exploracion de los datos\n",
    "print(\"\\nexploracion de los datos: \")\n",
    "print(\"\\nmostrar las primeras filas: \")\n",
    "print(df.head())\n",
    "\n",
    "#resumen del set de datos\n",
    "print(\"\\nresumen: \")\n",
    "print(df.describe())\n",
    "\n",
    "#obtener el tipo de datos\n",
    "print(\"\\n tipo de datos: \")\n",
    "print(df.dtypes)\n"
   ]
  },
  {
   "cell_type": "code",
   "execution_count": 27,
   "metadata": {},
   "outputs": [
    {
     "name": "stdout",
     "output_type": "stream",
     "text": [
      "\n",
      "limpieza de los datos: \n",
      "\n",
      "encontar valores duplicados: \n",
      "412\n",
      "\n",
      "revision de valores nulos despues de la limpieza: \n",
      "category    0\n",
      "message     0\n",
      "dtype: int64\n",
      "\n",
      "mostrar los datos limpios: \n",
      "  category                                            message\n",
      "0      ham  go until jurong point crazy available only in ...\n",
      "1      ham                            ok lar joking wif u oni\n",
      "2     spam  free entry in 2 a wkly comp to win fa cup fina...\n",
      "3      ham        u dun say so early hor u c already then say\n",
      "4      ham  nah i dont think he goes to usf he lives aroun...\n"
     ]
    }
   ],
   "source": [
    "#limpieza de los datos\n",
    "print(\"\\nlimpieza de los datos: \")\n",
    "\n",
    "#reemplazar valores vacios\n",
    "df = df.replace(r'^\\s*$', np.nan, regex=True)\n",
    "\n",
    "#eliminar filas con valores nulos\n",
    "df = df.dropna()\n",
    "\n",
    "#revision de valores duplicados\n",
    "print(\"\\nencontar valores duplicados: \")\n",
    "print(df.duplicated().sum())\n",
    "\n",
    "#eliminar valores duplicados\n",
    "\n",
    "df = df.drop_duplicates()\n",
    "\n",
    "#revision de valores nulos despues de la limpieza\n",
    "print(\"\\nrevision de valores nulos despues de la limpieza: \")\n",
    "print(df.isnull().sum())\n",
    "\n",
    "#cambiar los datos a todo minuscula\n",
    "df['message'] = df['message'].str.lower()\n",
    "df['category'] = df['category'].str.lower()\n",
    "\n",
    "#eliminar caracteres especiales\n",
    "df['message'] = df['message'].apply(lambda x: re.sub(r'[^\\w\\s]', '', x))\n",
    "\n",
    "#mostrar los datos limpios\n",
    "print(\"\\nmostrar los datos limpios: \")\n",
    "print(df.head())\n"
   ]
  },
  {
   "cell_type": "markdown",
   "metadata": {},
   "source": [
    "**Escoger los datos de test y train**"
   ]
  },
  {
   "cell_type": "code",
   "execution_count": 28,
   "metadata": {},
   "outputs": [
    {
     "name": "stdout",
     "output_type": "stream",
     "text": [
      "\n",
      "entrenamiento de datos: \n"
     ]
    }
   ],
   "source": [
    "#entrenamiento de datos\n",
    "print(\"\\nentrenamiento de datos: \")\n",
    "\n",
    "#entrenar el modelo con los datos\n",
    "X = df['message']\n",
    "y = df['category']\n",
    "\n",
    "#separar los datos en conjuntos de entrenamiento y prueba\n",
    "X_train, X_test, y_train, y_test = train_test_split(X, y, test_size=0.2, random_state=42)\n",
    "\n"
   ]
  },
  {
   "cell_type": "markdown",
   "metadata": {},
   "source": [
    "## 2.2 Construccion del modelo"
   ]
  },
  {
   "cell_type": "code",
   "execution_count": 39,
   "metadata": {},
   "outputs": [
    {
     "name": "stdout",
     "output_type": "stream",
     "text": [
      "\n",
      "Exactitud del modelo: 0.9592628516003879\n"
     ]
    },
    {
     "data": {
      "image/png": "[encoded data removed]",
      "text/plain": [
       "<Figure size 800x600 with 2 Axes>"
      ]
     },
     "metadata": {},
     "output_type": "display_data"
    }
   ],
   "source": [
    "from collections import defaultdict\n",
    "\n",
    "# Contar la cantidad de mensajes en cada clase (spam y ham)\n",
    "total_mensajes = len(y_train)\n",
    "total_spam = sum(y_train == 'spam')\n",
    "total_ham = sum(y_train == 'ham')\n",
    "\n",
    "# probabilidades \n",
    "P_spam = total_spam / total_mensajes\n",
    "P_ham = total_ham / total_mensajes\n",
    "\n",
    "vocabulario = set()\n",
    "spam_palabras = defaultdict(int)\n",
    "ham_palabras = defaultdict(int)\n",
    "\n",
    "# Tokenizar y contar palabras en cada categoría\n",
    "for mensaje, categoria in zip(X_train, y_train):\n",
    "    palabras = mensaje.split()\n",
    "    vocabulario.update(palabras)  # Añadir palabras al vocabulario general\n",
    "    if categoria == 'spam':\n",
    "        for palabra in palabras:\n",
    "            spam_palabras[palabra] += 1\n",
    "    else:\n",
    "        for palabra in palabras:\n",
    "            ham_palabras[palabra] += 1\n",
    "\n",
    "# Total de palabras en cada clase\n",
    "total_palabras_spam = sum(spam_palabras.values())\n",
    "total_palabras_ham = sum(ham_palabras.values())\n",
    "V = len(vocabulario)  # Tamaño del vocabulario\n",
    "\n",
    "def calcular_probabilidad(mensaje, categoria):\n",
    "    palabras = mensaje.split()\n",
    "    \n",
    "    # Seleccionamos el conjunto de palabras según la categoría\n",
    "    if categoria == 'spam':\n",
    "        total_clase = total_palabras_spam\n",
    "        conteo_palabras = spam_palabras\n",
    "        P_clase = P_spam\n",
    "    else:\n",
    "        total_clase = total_palabras_ham\n",
    "        conteo_palabras = ham_palabras\n",
    "        P_clase = P_ham\n",
    "\n",
    "    prob = (P_clase)  \n",
    "    for palabra in palabras:\n",
    "        P_palabra = (conteo_palabras[palabra] + 1) / (total_clase + V)  # Laplace Smoothing\n",
    "        prob += np.log(P_palabra)  # Sumamos los logaritmos de las probabilidades individuales\n",
    "\n",
    "    return prob\n",
    "\n",
    "def predecir(mensaje):\n",
    "    prob_spam = calcular_probabilidad(mensaje, 'spam')\n",
    "    prob_ham = calcular_probabilidad(mensaje, 'ham')\n",
    "    return 'spam' if prob_spam > prob_ham else 'ham'\n",
    "\n",
    "\n",
    "y_pred = []  \n",
    "\n",
    "for mensaje in X_test:\n",
    "    prediccion = predecir(mensaje)  \n",
    "    y_pred.append(prediccion)  \n",
    "\n",
    "accuracy = sum(y_pred == y_test) / len(y_test)\n",
    "conf_matrix = pd.crosstab(pd.Series(y_test, name='Real'), pd.Series(y_pred, name='Predicción'))\n",
    "\n",
    "print(\"\\nExactitud del modelo:\", accuracy)\n",
    "# Crear la gráfica de la matriz de confusión\n",
    "plt.figure(figsize=(8, 6))\n",
    "sns.heatmap(conf_matrix, annot=True, fmt=\"d\", cmap=\"Blues\", xticklabels=[\"Spam\", \"Ham\"], yticklabels=[\"Spam\", \"Ham\"])\n",
    "\n",
    "# Personalizar\n",
    "plt.title(\"Matriz de Confusión\", fontsize=16)\n",
    "plt.xlabel(\"Predicción\", fontsize=14)\n",
    "plt.ylabel(\"Realidad\", fontsize=14)\n",
    "plt.show()\n"
   ]
  },
  {
   "cell_type": "markdown",
   "metadata": {},
   "source": [
    "## 2.3 Clasificicacion de mensajes futuros"
   ]
  },
  {
   "cell_type": "code",
   "execution_count": 20,
   "metadata": {},
   "outputs": [],
   "source": [
    "#"
   ]
  },
  {
   "cell_type": "markdown",
   "metadata": {},
   "source": [
    "## 2.4 Comparación con Librerías"
   ]
  },
  {
   "cell_type": "code",
   "execution_count": 21,
   "metadata": {},
   "outputs": [],
   "source": [
    "# Librerias extra\n",
    "\n",
    "from sklearn.feature_extraction.text import TfidfVectorizer\n",
    "from sklearn.naive_bayes import MultinomialNB\n",
    "from sklearn.pipeline import make_pipeline\n",
    "from sklearn.metrics import accuracy_score\n"
   ]
  },
  {
   "cell_type": "code",
   "execution_count": 22,
   "metadata": {},
   "outputs": [
    {
     "name": "stdout",
     "output_type": "stream",
     "text": [
      "Accuracy: 0.9485935984481086\n"
     ]
    }
   ],
   "source": [
    "# Convierte los datos a números dando peso a las palabras\n",
    "vectorizer = TfidfVectorizer()\n",
    "\n",
    "model = make_pipeline(vectorizer, MultinomialNB())\n",
    "model.fit(X_train, y_train)\n",
    "y_pred = model.predict(X_test)\n",
    "\n",
    "# Evaluar el modelo\n",
    "print(\"Accuracy:\", accuracy_score(y_test, y_pred))"
   ]
  },
  {
   "cell_type": "markdown",
   "metadata": {},
   "source": [
    "### ¿Cuál implementación lo hizo mejor?\n",
    "Nuestra implementación tuvo un accuracy de , mientras que la que se hizo utilizando librerías tuvo un accuracy de 0.95. Con esto podemos ver que la que tuvo un mejor desempeño fue\n",
    "\n",
    "### ¿A qué se debe esta diferencia?"
   ]
  }
 ],
 "metadata": {
  "kernelspec": {
   "display_name": "Python 3",
   "language": "python",
   "name": "python3"
  },
  "language_info": {
   "codemirror_mode": {
    "name": "ipython",
    "version": 3
   },
   "file_extension": ".py",
   "mimetype": "text/x-python",
   "name": "python",
   "nbconvert_exporter": "python",
   "pygments_lexer": "ipython3",
   "version": "3.12.8"
  }
 },
 "nbformat": 4,
 "nbformat_minor": 2
}
