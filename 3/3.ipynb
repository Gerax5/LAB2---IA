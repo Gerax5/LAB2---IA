{
 "cells": [
  {
   "cell_type": "markdown",
   "metadata": {},
   "source": [
    "# 3"
   ]
  },
  {
   "cell_type": "markdown",
   "metadata": {},
   "source": [
    "## 3.1"
   ]
  },
  {
   "cell_type": "markdown",
   "metadata": {},
   "source": [
    "### Importar librerias y leer el dataset"
   ]
  },
  {
   "cell_type": "code",
   "execution_count": 30,
   "metadata": {},
   "outputs": [],
   "source": [
    "import numpy as np\n",
    "import pandas as pd\n",
    "from sklearn.model_selection import train_test_split\n",
    "from sklearn.preprocessing import StandardScaler\n",
    "from sklearn.linear_model import LogisticRegression\n",
    "from sklearn.metrics import accuracy_score, confusion_matrix, precision_score, recall_score\n",
    "import matplotlib.pyplot as plt\n",
    "import seaborn as sns\n",
    "\n",
    "df = pd.read_csv(\"./data/LOL.csv\")"
   ]
  },
  {
   "cell_type": "markdown",
   "metadata": {},
   "source": [
    "### Exploracion de datos"
   ]
  },
  {
   "cell_type": "code",
   "execution_count": 19,
   "metadata": {},
   "outputs": [
    {
     "name": "stdout",
     "output_type": "stream",
     "text": [
      "['gameId', 'blueWins', 'blueWardsPlaced', 'blueWardsDestroyed', 'blueFirstBlood', 'blueKills', 'blueDeaths', 'blueAssists', 'blueEliteMonsters', 'blueDragons', 'blueHeralds', 'blueTowersDestroyed', 'blueTotalGold', 'blueAvgLevel', 'blueTotalExperience', 'blueTotalMinionsKilled', 'blueTotalJungleMinionsKilled', 'blueGoldDiff', 'blueExperienceDiff', 'blueCSPerMin', 'blueGoldPerMin', 'redWardsPlaced', 'redWardsDestroyed', 'redFirstBlood', 'redKills', 'redDeaths', 'redAssists', 'redEliteMonsters', 'redDragons', 'redHeralds', 'redTowersDestroyed', 'redTotalGold', 'redAvgLevel', 'redTotalExperience', 'redTotalMinionsKilled', 'redTotalJungleMinionsKilled', 'redGoldDiff', 'redExperienceDiff', 'redCSPerMin', 'redGoldPerMin']\n",
      "- - - - - - - BALANCEO - - - - - - -\n",
      "blueWins\n",
      "0    4949\n",
      "1    4930\n",
      "Name: count, dtype: int64\n",
      "Proporcion de 0s:  0.5009616357930965\n",
      "Proporcion de 1s:  0.4990383642069035\n",
      "Como se puede evidenciar ambos resultados son aproximadamente 0.5 por lo tanto se puede decir que el dataset esta balanceado \n"
     ]
    }
   ],
   "source": [
    "# Exploracion de datos\n",
    "# Para saber las columnas del dataset\n",
    "print(list(df.columns))\n",
    "\n",
    "# Para saber si el dataset esta balanceado\n",
    "print(\"- - - - - - - BALANCEO - - - - - - -\")\n",
    "balanceo = df[\"blueWins\"].value_counts()\n",
    "print(df[\"blueWins\"].value_counts())\n",
    "\n",
    "p0 = balanceo[0]/(balanceo[0]+balanceo[1])\n",
    "p1 = balanceo[1]/(balanceo[0]+balanceo[1])\n",
    "\n",
    "print(\"Proporcion de 0s: \", p0)\n",
    "print(\"Proporcion de 1s: \", p1)\n",
    "\n",
    "print(\"Como se puede evidenciar ambos resultados son aproximadamente 0.5 por lo tanto se puede decir que el dataset esta balanceado \")\n",
    "\n"
   ]
  },
  {
   "cell_type": "code",
   "execution_count": 20,
   "metadata": {},
   "outputs": [
    {
     "name": "stdout",
     "output_type": "stream",
     "text": [
      "- - - - - - - TIPOS DE DATOS - - - - - - -\n",
      "int64      34\n",
      "float64     6\n",
      "Name: count, dtype: int64\n",
      "- - - - - - - VALORES NULLS - - - - - - -\n",
      "      gameId  blueWins  blueWardsPlaced  blueWardsDestroyed  blueFirstBlood  \\\n",
      "0      False     False            False               False           False   \n",
      "1      False     False            False               False           False   \n",
      "2      False     False            False               False           False   \n",
      "3      False     False            False               False           False   \n",
      "4      False     False            False               False           False   \n",
      "...      ...       ...              ...                 ...             ...   \n",
      "9874   False     False            False               False           False   \n",
      "9875   False     False            False               False           False   \n",
      "9876   False     False            False               False           False   \n",
      "9877   False     False            False               False           False   \n",
      "9878   False     False            False               False           False   \n",
      "\n",
      "      blueKills  blueDeaths  blueAssists  blueEliteMonsters  blueDragons  ...  \\\n",
      "0         False       False        False              False        False  ...   \n",
      "1         False       False        False              False        False  ...   \n",
      "2         False       False        False              False        False  ...   \n",
      "3         False       False        False              False        False  ...   \n",
      "4         False       False        False              False        False  ...   \n",
      "...         ...         ...          ...                ...          ...  ...   \n",
      "9874      False       False        False              False        False  ...   \n",
      "9875      False       False        False              False        False  ...   \n",
      "9876      False       False        False              False        False  ...   \n",
      "9877      False       False        False              False        False  ...   \n",
      "9878      False       False        False              False        False  ...   \n",
      "\n",
      "      redTowersDestroyed  redTotalGold  redAvgLevel  redTotalExperience  \\\n",
      "0                  False         False        False               False   \n",
      "1                  False         False        False               False   \n",
      "2                  False         False        False               False   \n",
      "3                  False         False        False               False   \n",
      "4                  False         False        False               False   \n",
      "...                  ...           ...          ...                 ...   \n",
      "9874               False         False        False               False   \n",
      "9875               False         False        False               False   \n",
      "9876               False         False        False               False   \n",
      "9877               False         False        False               False   \n",
      "9878               False         False        False               False   \n",
      "\n",
      "      redTotalMinionsKilled  redTotalJungleMinionsKilled  redGoldDiff  \\\n",
      "0                     False                        False        False   \n",
      "1                     False                        False        False   \n",
      "2                     False                        False        False   \n",
      "3                     False                        False        False   \n",
      "4                     False                        False        False   \n",
      "...                     ...                          ...          ...   \n",
      "9874                  False                        False        False   \n",
      "9875                  False                        False        False   \n",
      "9876                  False                        False        False   \n",
      "9877                  False                        False        False   \n",
      "9878                  False                        False        False   \n",
      "\n",
      "      redExperienceDiff  redCSPerMin  redGoldPerMin  \n",
      "0                 False        False          False  \n",
      "1                 False        False          False  \n",
      "2                 False        False          False  \n",
      "3                 False        False          False  \n",
      "4                 False        False          False  \n",
      "...                 ...          ...            ...  \n",
      "9874              False        False          False  \n",
      "9875              False        False          False  \n",
      "9876              False        False          False  \n",
      "9877              False        False          False  \n",
      "9878              False        False          False  \n",
      "\n",
      "[9879 rows x 40 columns]\n",
      "[0, 0, 0, 0, 0, 0, 0, 0, 0, 0, 0, 0, 0, 0, 0, 0, 0, 0, 0, 0, 0, 0, 0, 0, 0, 0, 0, 0, 0, 0, 0, 0, 0, 0, 0, 0, 0, 0, 0, 0]\n"
     ]
    }
   ],
   "source": [
    "# Obtener tipos de datos\n",
    "tipos_de_datos = df.dtypes.value_counts()\n",
    "\n",
    "# # Mostrar tipos de datos con nombres de columnas\n",
    "print(\"- - - - - - - TIPOS DE DATOS - - - - - - -\")\n",
    "print(tipos_de_datos)\n",
    "\n",
    "# Buscando valores nulls\n",
    "print(\"- - - - - - - VALORES NULLS - - - - - - -\")\n",
    "nulos = df.isnull()\n",
    "print(nulos)\n",
    "\n",
    "nulos_por_columna = df.isnull().sum()\n",
    "print(list(nulos_por_columna))"
   ]
  },
  {
   "cell_type": "markdown",
   "metadata": {},
   "source": [
    "### Modelo (Regresion Logistica)"
   ]
  },
  {
   "cell_type": "code",
   "execution_count": 23,
   "metadata": {},
   "outputs": [],
   "source": [
    "# Regresion logistica\n",
    "\n",
    "# Obtener la muestra\n",
    "X = df.drop(columns=[\"blueWins\"])  \n",
    "y = df[\"blueWins\"] \n",
    "\n",
    "X_train, X_test, y_train, y_test = train_test_split(X, y, test_size=0.2, random_state=42)\n",
    "\n",
    "# Normalizar datos\n",
    "scaler = StandardScaler()\n",
    "X_train = scaler.fit_transform(X_train)\n",
    "X_test = scaler.transform(X_test)\n",
    "\n",
    "model = LogisticRegression()\n",
    "model.fit(X_train, y_train)\n",
    "\n",
    "y_pred = model.predict(X_test)\n",
    "y_proba = model.predict_proba(X_test)[:, 1]\n"
   ]
  },
  {
   "cell_type": "markdown",
   "metadata": {},
   "source": [
    "### Resultados"
   ]
  },
  {
   "cell_type": "code",
   "execution_count": 32,
   "metadata": {},
   "outputs": [
    {
     "name": "stdout",
     "output_type": "stream",
     "text": [
      "Al estar los datos balanceados se puede decir que el accuracy es una buena metrica para evaluar el modelo\n",
      "Accuracy: 0.73\n",
      "Precision se uso principalmente para saber cuantos de los casos positivos fueron clasificados correctamente\n",
      "Precision: 0.73\n",
      "Recall se uso principalmente para saber cuantos de los casos positivos fueron clasificados correctamente\n",
      "Recall: 0.74\n"
     ]
    }
   ],
   "source": [
    "\n",
    "accuracy = accuracy_score(y_test, y_pred)\n",
    "print(\"Al estar los datos balanceados se puede decir que el accuracy es una buena metrica para evaluar el modelo\")\n",
    "print(f\"Accuracy: {accuracy:.2f}\")\n",
    "\n",
    "print(\"Precision se uso principalmente para saber cuantos de los casos positivos fueron clasificados correctamente\")\n",
    "precision = precision_score(y_test, y_pred)\n",
    "print(f\"Precision: {precision:.2f}\")\n",
    "\n",
    "print(\"Recall se uso principalmente para saber cuantos de los casos positivos fueron clasificados correctamente\")\n",
    "Recall = recall_score(y_test, y_pred)\n",
    "print(f\"Recall: {Recall:.2f}\")\n"
   ]
  },
  {
   "cell_type": "code",
   "execution_count": 28,
   "metadata": {},
   "outputs": [
    {
     "data": {
      "image/png": "[encoded data removed]",
      "text/plain": [
       "<Figure size 600x500 with 2 Axes>"
      ]
     },
     "metadata": {},
     "output_type": "display_data"
    }
   ],
   "source": [
    "plt.figure(figsize=(6,5))\n",
    "sns.heatmap(confusion_matrix(y_test, y_pred), annot=True, fmt=\"d\", cmap=\"Blues\",\n",
    "            xticklabels=[\"Derrota\", \"Victoria\"], yticklabels=[\"Derrota\", \"Victoria\"])\n",
    "plt.xlabel(\"Predicción\")\n",
    "plt.ylabel(\"Real\")\n",
    "plt.title(\"Matriz de Confusión - Regresión Logística\")\n",
    "plt.show()"
   ]
  },
  {
   "cell_type": "markdown",
   "metadata": {},
   "source": [
    "## 3.2"
   ]
  },
  {
   "cell_type": "markdown",
   "metadata": {},
   "source": [
    "### Importar librerias y leer el dataset"
   ]
  },
  {
   "cell_type": "code",
   "execution_count": null,
   "metadata": {},
   "outputs": [],
   "source": [
    "import numpy as np\n",
    "import pandas as pd\n",
    "\n",
    "df = pd.read_csv(\"./data/LOL.csv\")"
   ]
  }
 ],
 "metadata": {
  "kernelspec": {
   "display_name": "Python 3",
   "language": "python",
   "name": "python3"
  },
  "language_info": {
   "codemirror_mode": {
    "name": "ipython",
    "version": 3
   },
   "file_extension": ".py",
   "mimetype": "text/x-python",
   "name": "python",
   "nbconvert_exporter": "python",
   "pygments_lexer": "ipython3",
   "version": "3.11.9"
  }
 },
 "nbformat": 4,
 "nbformat_minor": 2
}
